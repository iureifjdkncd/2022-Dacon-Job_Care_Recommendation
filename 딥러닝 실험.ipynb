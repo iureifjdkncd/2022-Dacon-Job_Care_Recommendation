{
 "cells": [
  {
   "cell_type": "code",
   "execution_count": 1,
   "id": "e863b0ce",
   "metadata": {},
   "outputs": [],
   "source": [
    "import pandas as pd\n",
    "import numpy as np\n",
    "from sklearn.model_selection import train_test_split\n",
    "from sklearn.metrics import accuracy_score,precision_score,recall_score,f1_score,roc_auc_score\n",
    "import warnings \n",
    "warnings.filterwarnings(action='ignore')"
   ]
  },
  {
   "cell_type": "code",
   "execution_count": 2,
   "id": "20eded27",
   "metadata": {},
   "outputs": [],
   "source": [
    "def get_clf_eval(y_test,pred=None,pred_proba=None):\n",
    "    accuracy = accuracy_score(y_test,pred)\n",
    "    precision = precision_score(y_test,pred)\n",
    "    recall = recall_score(y_test,pred)\n",
    "    f1 = f1_score(y_test,pred)\n",
    "    roc_auc = roc_auc_score(y_test,pred_proba)\n",
    "    print('정확도:{0:4f}, 정밀도:{1:4f}, 재현율:{2:4f},F1 : {3:4f}, ROC AUC : {4:4f}'.format(accuracy,precision,recall,f1,roc_auc))"
   ]
  },
  {
   "cell_type": "code",
   "execution_count": 3,
   "id": "17e2d08a",
   "metadata": {},
   "outputs": [],
   "source": [
    "from sklearn.preprocessing import Binarizer\n",
    "\n",
    "def get_eval_by_threshold(y_test,pred_proba_c1,thresholds):\n",
    "    for custom_threshold in thresholds:\n",
    "        binarizer = Binarizer(threshold=custom_threshold).fit(pred_proba_c1)\n",
    "        custom_predict = binarizer.transform(pred_proba_c1)\n",
    "        print('임계값',custom_threshold)\n",
    "        get_clf_eval(y_test,custom_predict,pred_proba_c1)\n",
    "        print('\\n')"
   ]
  },
  {
   "cell_type": "markdown",
   "id": "03289085",
   "metadata": {},
   "source": [
    "### Train 데이터 불러오기"
   ]
  },
  {
   "cell_type": "code",
   "execution_count": 4,
   "id": "9fad8179",
   "metadata": {},
   "outputs": [],
   "source": [
    "df = pd.read_csv('데이콘/train.csv')\n",
    "test = pd.read_csv('데이콘/test.csv')\n",
    "d_code=pd.read_csv('데이콘/속성_D_코드.csv').set_index(keys='속성 D 코드')\n",
    "h_code=pd.read_csv('데이콘/속성_H_코드.csv').set_index(keys='속성 H 코드')\n",
    "l_code=pd.read_csv('데이콘/속성_L_코드.csv').set_index(keys='속성 L 코드')"
   ]
  },
  {
   "cell_type": "code",
   "execution_count": 5,
   "id": "2e02a164",
   "metadata": {},
   "outputs": [],
   "source": [
    "df = df.drop(['id', 'contents_open_dt','person_rn', 'contents_rn','person_prefer_f','person_prefer_g'], axis=1) \n",
    "test = test.drop(['id', 'contents_open_dt','person_rn', 'contents_rn','person_prefer_f','person_prefer_g'], axis=1) "
   ]
  },
  {
   "cell_type": "code",
   "execution_count": 6,
   "id": "40f044cb",
   "metadata": {},
   "outputs": [],
   "source": [
    "def add_code(df,d_code=d_code,h_code=h_code,l_code=l_code): #n:세분류,s:소분류,m:중분류,l:대분류\n",
    "    df=df.copy()\n",
    "#     df 복사본 만들기\n",
    "\n",
    "    \n",
    "    \n",
    "    df[\"person_prefer_d_1_n\"]=df[\"person_prefer_d_1\"].apply(lambda x: d_code.loc[x,\"속성 D 세분류코드\"])\n",
    "    df[\"person_prefer_d_1_s\"]=df[\"person_prefer_d_1\"].apply(lambda x: d_code.loc[x,\"속성 D 소분류코드\"])\n",
    "    df[\"person_prefer_d_1_m\"]=df[\"person_prefer_d_1\"].apply(lambda x: d_code.loc[x,\"속성 D 중분류코드\"])\n",
    "    df[\"person_prefer_d_1_l\"]=df[\"person_prefer_d_1\"].apply(lambda x: d_code.loc[x,\"속성 D 대분류코드\"])\n",
    "    \n",
    "    df[\"person_prefer_d_2_n\"]=df[\"person_prefer_d_2\"].apply(lambda x: d_code.loc[x,\"속성 D 세분류코드\"])\n",
    "    df[\"person_prefer_d_2_s\"]=df[\"person_prefer_d_2\"].apply(lambda x: d_code.loc[x,\"속성 D 소분류코드\"])\n",
    "    df[\"person_prefer_d_2_m\"]=df[\"person_prefer_d_2\"].apply(lambda x: d_code.loc[x,\"속성 D 중분류코드\"])\n",
    "    df[\"person_prefer_d_2_l\"]=df[\"person_prefer_d_2\"].apply(lambda x: d_code.loc[x,\"속성 D 대분류코드\"])\n",
    "    \n",
    "    df[\"person_prefer_d_3_n\"]=df[\"person_prefer_d_3\"].apply(lambda x: d_code.loc[x,\"속성 D 세분류코드\"])\n",
    "    df[\"person_prefer_d_3_s\"]=df[\"person_prefer_d_3\"].apply(lambda x: d_code.loc[x,\"속성 D 소분류코드\"])\n",
    "    df[\"person_prefer_d_3_m\"]=df[\"person_prefer_d_3\"].apply(lambda x: d_code.loc[x,\"속성 D 중분류코드\"])\n",
    "    df[\"person_prefer_d_3_l\"]=df[\"person_prefer_d_3\"].apply(lambda x: d_code.loc[x,\"속성 D 대분류코드\"])\n",
    "    \n",
    "    df['person_prefer_h_1_m']=df['person_prefer_h_1'].apply(lambda x: h_code.loc[x,'속성 H 중분류코드'])\n",
    "    df['person_prefer_h_2_m']=df['person_prefer_h_2'].apply(lambda x: h_code.loc[x,'속성 H 중분류코드'])\n",
    "    df['person_prefer_h_3_m']=df['person_prefer_h_3'].apply(lambda x: h_code.loc[x,'속성 H 중분류코드'])\n",
    "   \n",
    "    \n",
    "    df['contents_attribute_l_n']=df['contents_attribute_l'].apply(lambda x: l_code.loc[x,\"속성 L 세분류코드\"])\n",
    "    df['contents_attribute_l_s']=df['contents_attribute_l'].apply(lambda x: l_code.loc[x,\"속성 L 소분류코드\"])\n",
    "    df['contents_attribute_l_m']=df['contents_attribute_l'].apply(lambda x: l_code.loc[x,\"속성 L 중분류코드\"])\n",
    "    df['contents_attribute_l_l']=df['contents_attribute_l'].apply(lambda x: l_code.loc[x,\"속성 L 대분류코드\"])\n",
    "    \n",
    "    df['contents_attribute_d_n']=df['contents_attribute_d'].apply(lambda x: d_code.loc[x,\"속성 D 세분류코드\"])\n",
    "    df['contents_attribute_d_s']=df['contents_attribute_d'].apply(lambda x: d_code.loc[x,\"속성 D 소분류코드\"])\n",
    "    df['contents_attribute_d_m']=df['contents_attribute_d'].apply(lambda x: d_code.loc[x,\"속성 D 중분류코드\"])\n",
    "    df['contents_attribute_d_l']=df['contents_attribute_d'].apply(lambda x: d_code.loc[x,\"속성 D 대분류코드\"])\n",
    "\n",
    "    df['contents_attribute_h_m']=df['contents_attribute_h'].apply(lambda x: h_code.loc[x,'속성 H 대분류코드'])\n",
    "\n",
    "    \n",
    "    return df\n",
    "    \n",
    "df = add_code(df, d_code, h_code, l_code)\n",
    "test = add_code(test, d_code, h_code, l_code)"
   ]
  },
  {
   "cell_type": "markdown",
   "id": "282ed9b2",
   "metadata": {},
   "source": [
    "### 전처리 "
   ]
  },
  {
   "cell_type": "markdown",
   "id": "17eba40f",
   "metadata": {},
   "source": [
    "#### 1. label"
   ]
  },
  {
   "cell_type": "code",
   "execution_count": 7,
   "id": "c2fb4c55",
   "metadata": {},
   "outputs": [],
   "source": [
    "from sklearn.preprocessing import LabelEncoder\n",
    "\n",
    "encoder = LabelEncoder()\n",
    "list1 = ['d_l_match_yn','d_m_match_yn','d_s_match_yn','h_l_match_yn','h_m_match_yn','h_s_match_yn']\n",
    "for i in list1:\n",
    "    df[i] = encoder.fit_transform(df[i])"
   ]
  },
  {
   "cell_type": "code",
   "execution_count": 8,
   "id": "608e6ef6",
   "metadata": {},
   "outputs": [
    {
     "data": {
      "text/plain": [
       "(501951, 53)"
      ]
     },
     "execution_count": 8,
     "metadata": {},
     "output_type": "execute_result"
    }
   ],
   "source": [
    "df.shape"
   ]
  },
  {
   "cell_type": "markdown",
   "id": "1018f0ef",
   "metadata": {},
   "source": [
    "###  Isolation Forest 이상탐지 "
   ]
  },
  {
   "cell_type": "code",
   "execution_count": 9,
   "id": "0cc8d5b9",
   "metadata": {},
   "outputs": [],
   "source": [
    "from sklearn.ensemble import IsolationForest"
   ]
  },
  {
   "cell_type": "code",
   "execution_count": 10,
   "id": "59edad48",
   "metadata": {},
   "outputs": [
    {
     "data": {
      "text/plain": [
       "IsolationForest(contamination=0.8, max_samples=100, random_state=2021)"
      ]
     },
     "execution_count": 10,
     "metadata": {},
     "output_type": "execute_result"
    }
   ],
   "source": [
    "clf=IsolationForest(contamination=0.8,max_samples=100,random_state=2021) # 0.42 , 0.45, 0.78 성공\n",
    "clf.fit(df)"
   ]
  },
  {
   "cell_type": "code",
   "execution_count": 11,
   "id": "d31d443a",
   "metadata": {},
   "outputs": [
    {
     "name": "stdout",
     "output_type": "stream",
     "text": [
      "-1    401560\n",
      " 1    100391\n",
      "Name: anomaly, dtype: int64\n"
     ]
    }
   ],
   "source": [
    "pred = clf.predict(df)\n",
    "df['anomaly']=pred\n",
    "outliers=df.loc[df['anomaly']==-1]\n",
    "outlier_index=list(outliers.index)\n",
    "print(df['anomaly'].value_counts()) # -1 --> 이상치, 1 --> 정상값"
   ]
  },
  {
   "cell_type": "code",
   "execution_count": 12,
   "id": "4d614893",
   "metadata": {},
   "outputs": [
    {
     "data": {
      "text/plain": [
       "(100391, 54)"
      ]
     },
     "execution_count": 12,
     "metadata": {},
     "output_type": "execute_result"
    }
   ],
   "source": [
    "df = df[df['anomaly']==1]\n",
    "df.shape "
   ]
  },
  {
   "cell_type": "code",
   "execution_count": 13,
   "id": "b5ad2937",
   "metadata": {},
   "outputs": [
    {
     "data": {
      "text/html": [
       "<div>\n",
       "<style scoped>\n",
       "    .dataframe tbody tr th:only-of-type {\n",
       "        vertical-align: middle;\n",
       "    }\n",
       "\n",
       "    .dataframe tbody tr th {\n",
       "        vertical-align: top;\n",
       "    }\n",
       "\n",
       "    .dataframe thead th {\n",
       "        text-align: right;\n",
       "    }\n",
       "</style>\n",
       "<table border=\"1\" class=\"dataframe\">\n",
       "  <thead>\n",
       "    <tr style=\"text-align: right;\">\n",
       "      <th></th>\n",
       "      <th>d_l_match_yn</th>\n",
       "      <th>d_m_match_yn</th>\n",
       "      <th>d_s_match_yn</th>\n",
       "      <th>h_l_match_yn</th>\n",
       "      <th>h_m_match_yn</th>\n",
       "      <th>h_s_match_yn</th>\n",
       "      <th>person_attribute_a</th>\n",
       "      <th>person_attribute_a_1</th>\n",
       "      <th>person_attribute_b</th>\n",
       "      <th>person_prefer_c</th>\n",
       "      <th>...</th>\n",
       "      <th>contents_attribute_l_n</th>\n",
       "      <th>contents_attribute_l_s</th>\n",
       "      <th>contents_attribute_l_m</th>\n",
       "      <th>contents_attribute_l_l</th>\n",
       "      <th>contents_attribute_d_n</th>\n",
       "      <th>contents_attribute_d_s</th>\n",
       "      <th>contents_attribute_d_m</th>\n",
       "      <th>contents_attribute_d_l</th>\n",
       "      <th>contents_attribute_h_m</th>\n",
       "      <th>anomaly</th>\n",
       "    </tr>\n",
       "  </thead>\n",
       "  <tbody>\n",
       "    <tr>\n",
       "      <th>0</th>\n",
       "      <td>0</td>\n",
       "      <td>0</td>\n",
       "      <td>0</td>\n",
       "      <td>1</td>\n",
       "      <td>1</td>\n",
       "      <td>0</td>\n",
       "      <td>1</td>\n",
       "      <td>3</td>\n",
       "      <td>4</td>\n",
       "      <td>1</td>\n",
       "      <td>...</td>\n",
       "      <td>1607</td>\n",
       "      <td>1606</td>\n",
       "      <td>1605</td>\n",
       "      <td>2016</td>\n",
       "      <td>275</td>\n",
       "      <td>274</td>\n",
       "      <td>274</td>\n",
       "      <td>216</td>\n",
       "      <td>94</td>\n",
       "      <td>1</td>\n",
       "    </tr>\n",
       "    <tr>\n",
       "      <th>1</th>\n",
       "      <td>0</td>\n",
       "      <td>0</td>\n",
       "      <td>0</td>\n",
       "      <td>1</td>\n",
       "      <td>0</td>\n",
       "      <td>0</td>\n",
       "      <td>1</td>\n",
       "      <td>1</td>\n",
       "      <td>2</td>\n",
       "      <td>5</td>\n",
       "      <td>...</td>\n",
       "      <td>1607</td>\n",
       "      <td>1606</td>\n",
       "      <td>1605</td>\n",
       "      <td>2016</td>\n",
       "      <td>275</td>\n",
       "      <td>274</td>\n",
       "      <td>274</td>\n",
       "      <td>216</td>\n",
       "      <td>71</td>\n",
       "      <td>1</td>\n",
       "    </tr>\n",
       "    <tr>\n",
       "      <th>2</th>\n",
       "      <td>1</td>\n",
       "      <td>1</td>\n",
       "      <td>0</td>\n",
       "      <td>1</td>\n",
       "      <td>0</td>\n",
       "      <td>0</td>\n",
       "      <td>1</td>\n",
       "      <td>1</td>\n",
       "      <td>2</td>\n",
       "      <td>5</td>\n",
       "      <td>...</td>\n",
       "      <td>529</td>\n",
       "      <td>528</td>\n",
       "      <td>527</td>\n",
       "      <td>2006</td>\n",
       "      <td>1027</td>\n",
       "      <td>1026</td>\n",
       "      <td>1000</td>\n",
       "      <td>926</td>\n",
       "      <td>94</td>\n",
       "      <td>1</td>\n",
       "    </tr>\n",
       "    <tr>\n",
       "      <th>3</th>\n",
       "      <td>1</td>\n",
       "      <td>0</td>\n",
       "      <td>0</td>\n",
       "      <td>1</td>\n",
       "      <td>0</td>\n",
       "      <td>0</td>\n",
       "      <td>1</td>\n",
       "      <td>5</td>\n",
       "      <td>3</td>\n",
       "      <td>1</td>\n",
       "      <td>...</td>\n",
       "      <td>529</td>\n",
       "      <td>528</td>\n",
       "      <td>527</td>\n",
       "      <td>2006</td>\n",
       "      <td>92</td>\n",
       "      <td>91</td>\n",
       "      <td>56</td>\n",
       "      <td>1</td>\n",
       "      <td>94</td>\n",
       "      <td>1</td>\n",
       "    </tr>\n",
       "    <tr>\n",
       "      <th>4</th>\n",
       "      <td>1</td>\n",
       "      <td>0</td>\n",
       "      <td>0</td>\n",
       "      <td>1</td>\n",
       "      <td>0</td>\n",
       "      <td>0</td>\n",
       "      <td>1</td>\n",
       "      <td>1</td>\n",
       "      <td>2</td>\n",
       "      <td>1</td>\n",
       "      <td>...</td>\n",
       "      <td>1460</td>\n",
       "      <td>1459</td>\n",
       "      <td>1458</td>\n",
       "      <td>2013</td>\n",
       "      <td>97</td>\n",
       "      <td>91</td>\n",
       "      <td>56</td>\n",
       "      <td>1</td>\n",
       "      <td>3</td>\n",
       "      <td>1</td>\n",
       "    </tr>\n",
       "  </tbody>\n",
       "</table>\n",
       "<p>5 rows × 54 columns</p>\n",
       "</div>"
      ],
      "text/plain": [
       "   d_l_match_yn  d_m_match_yn  d_s_match_yn  h_l_match_yn  h_m_match_yn  \\\n",
       "0             0             0             0             1             1   \n",
       "1             0             0             0             1             0   \n",
       "2             1             1             0             1             0   \n",
       "3             1             0             0             1             0   \n",
       "4             1             0             0             1             0   \n",
       "\n",
       "   h_s_match_yn  person_attribute_a  person_attribute_a_1  person_attribute_b  \\\n",
       "0             0                   1                     3                   4   \n",
       "1             0                   1                     1                   2   \n",
       "2             0                   1                     1                   2   \n",
       "3             0                   1                     5                   3   \n",
       "4             0                   1                     1                   2   \n",
       "\n",
       "   person_prefer_c  ...  contents_attribute_l_n  contents_attribute_l_s  \\\n",
       "0                1  ...                    1607                    1606   \n",
       "1                5  ...                    1607                    1606   \n",
       "2                5  ...                     529                     528   \n",
       "3                1  ...                     529                     528   \n",
       "4                1  ...                    1460                    1459   \n",
       "\n",
       "   contents_attribute_l_m  contents_attribute_l_l  contents_attribute_d_n  \\\n",
       "0                    1605                    2016                     275   \n",
       "1                    1605                    2016                     275   \n",
       "2                     527                    2006                    1027   \n",
       "3                     527                    2006                      92   \n",
       "4                    1458                    2013                      97   \n",
       "\n",
       "   contents_attribute_d_s  contents_attribute_d_m  contents_attribute_d_l  \\\n",
       "0                     274                     274                     216   \n",
       "1                     274                     274                     216   \n",
       "2                    1026                    1000                     926   \n",
       "3                      91                      56                       1   \n",
       "4                      91                      56                       1   \n",
       "\n",
       "   contents_attribute_h_m  anomaly  \n",
       "0                      94        1  \n",
       "1                      71        1  \n",
       "2                      94        1  \n",
       "3                      94        1  \n",
       "4                       3        1  \n",
       "\n",
       "[5 rows x 54 columns]"
      ]
     },
     "execution_count": 13,
     "metadata": {},
     "output_type": "execute_result"
    }
   ],
   "source": [
    "df = df.reset_index(drop=True)\n",
    "df.head() # concat 전에 인덱스 초기화 필수 "
   ]
  },
  {
   "cell_type": "code",
   "execution_count": 14,
   "id": "2c0db4e0",
   "metadata": {},
   "outputs": [],
   "source": [
    "X = df.drop(['target','anomaly'],axis=1,inplace=False)\n",
    "y = df['target']"
   ]
  },
  {
   "cell_type": "code",
   "execution_count": 15,
   "id": "d9aca8cd",
   "metadata": {},
   "outputs": [],
   "source": [
    "X_train,X_test,y_train,y_test = train_test_split(X,y,test_size=0.3,random_state=2021)"
   ]
  },
  {
   "cell_type": "code",
   "execution_count": 16,
   "id": "b3906379",
   "metadata": {},
   "outputs": [
    {
     "data": {
      "text/plain": [
       "(70273, 52)"
      ]
     },
     "execution_count": 16,
     "metadata": {},
     "output_type": "execute_result"
    }
   ],
   "source": [
    "X_train.shape"
   ]
  },
  {
   "cell_type": "markdown",
   "id": "ae146ed4",
   "metadata": {},
   "source": [
    "### DNN "
   ]
  },
  {
   "cell_type": "code",
   "execution_count": 1,
   "id": "78c82101",
   "metadata": {},
   "outputs": [],
   "source": [
    "import tensorflow \n",
    "from tensorflow.keras import layers, models\n",
    "from tensorflow.keras.layers import Dense,Dropout,BatchNormalization\n",
    "from tensorflow.keras.models import Sequential"
   ]
  },
  {
   "cell_type": "code",
   "execution_count": 19,
   "id": "dde93915",
   "metadata": {
    "scrolled": true
   },
   "outputs": [
    {
     "name": "stdout",
     "output_type": "stream",
     "text": [
      "Model: \"sequential\"\n",
      "_________________________________________________________________\n",
      "Layer (type)                 Output Shape              Param #   \n",
      "=================================================================\n",
      "dense (Dense)                (None, 128)               6784      \n",
      "_________________________________________________________________\n",
      "dropout (Dropout)            (None, 128)               0         \n",
      "_________________________________________________________________\n",
      "batch_normalization (BatchNo (None, 128)               512       \n",
      "_________________________________________________________________\n",
      "dense_1 (Dense)              (None, 64)                8256      \n",
      "_________________________________________________________________\n",
      "dropout_1 (Dropout)          (None, 64)                0         \n",
      "_________________________________________________________________\n",
      "batch_normalization_1 (Batch (None, 64)                256       \n",
      "_________________________________________________________________\n",
      "dense_2 (Dense)              (None, 32)                2080      \n",
      "_________________________________________________________________\n",
      "dropout_2 (Dropout)          (None, 32)                0         \n",
      "_________________________________________________________________\n",
      "batch_normalization_2 (Batch (None, 32)                128       \n",
      "_________________________________________________________________\n",
      "dense_3 (Dense)              (None, 16)                528       \n",
      "_________________________________________________________________\n",
      "dropout_3 (Dropout)          (None, 16)                0         \n",
      "_________________________________________________________________\n",
      "batch_normalization_3 (Batch (None, 16)                64        \n",
      "_________________________________________________________________\n",
      "dense_4 (Dense)              (None, 8)                 136       \n",
      "_________________________________________________________________\n",
      "dropout_4 (Dropout)          (None, 8)                 0         \n",
      "_________________________________________________________________\n",
      "batch_normalization_4 (Batch (None, 8)                 32        \n",
      "_________________________________________________________________\n",
      "dense_5 (Dense)              (None, 1)                 9         \n",
      "=================================================================\n",
      "Total params: 18,785\n",
      "Trainable params: 18,289\n",
      "Non-trainable params: 496\n",
      "_________________________________________________________________\n",
      "None\n"
     ]
    }
   ],
   "source": [
    "model=models.Sequential()\n",
    "model.add(layers.Dense(128, activation='relu',input_dim=X_train.shape[1]))\n",
    "model.add(Dropout(0.2))\n",
    "model.add(BatchNormalization())\n",
    "model.add(layers.Dense(64, activation='relu'))\n",
    "model.add(Dropout(0.2))\n",
    "model.add(BatchNormalization())\n",
    "model.add(layers.Dense(32, activation='relu'))\n",
    "model.add(Dropout(0.2))\n",
    "model.add(BatchNormalization())\n",
    "model.add(layers.Dense(16, activation='relu'))\n",
    "model.add(Dropout(0.2))\n",
    "model.add(BatchNormalization())\n",
    "model.add(layers.Dense(8, activation='relu'))\n",
    "model.add(Dropout(0.2))\n",
    "model.add(BatchNormalization())\n",
    "model.add(layers.Dense(1,activation='sigmoid'))\n",
    "print(model.summary())"
   ]
  },
  {
   "cell_type": "code",
   "execution_count": 20,
   "id": "3013a8c4",
   "metadata": {},
   "outputs": [],
   "source": [
    "from tensorflow.keras import backend as K"
   ]
  },
  {
   "cell_type": "code",
   "execution_count": 21,
   "id": "a4e88dc8",
   "metadata": {},
   "outputs": [],
   "source": [
    "def recall(y_target, y_pred):\n",
    "    y_target_yn = K.round(K.clip(y_target, 0, 1)) \n",
    "    y_pred_yn = K.round(K.clip(y_pred, 0, 1)) \n",
    "    count_true_positive = K.sum(y_target_yn * y_pred_yn) \n",
    "    count_true_positive_false_negative = K.sum(y_target_yn)\n",
    "    recall = count_true_positive / (count_true_positive_false_negative + K.epsilon())\n",
    "    return recall"
   ]
  },
  {
   "cell_type": "code",
   "execution_count": 22,
   "id": "ba37cb84",
   "metadata": {},
   "outputs": [],
   "source": [
    "def precision(y_target, y_pred):\n",
    "    y_pred_yn = K.round(K.clip(y_pred, 0, 1)) \n",
    "    y_target_yn = K.round(K.clip(y_target, 0, 1)) \n",
    "    count_true_positive = K.sum(y_target_yn * y_pred_yn) \n",
    "    count_true_positive_false_positive = K.sum(y_pred_yn)\n",
    "    precision = count_true_positive / (count_true_positive_false_positive + K.epsilon())\n",
    "    return precision"
   ]
  },
  {
   "cell_type": "code",
   "execution_count": 23,
   "id": "2491b9f3",
   "metadata": {},
   "outputs": [],
   "source": [
    "def f1score(y_target, y_pred):\n",
    "    _recall = recall(y_target, y_pred)\n",
    "    _precision = precision(y_target, y_pred)\n",
    "    _f1score = ( 2 * _recall * _precision) / (_recall + _precision+ K.epsilon())\n",
    "    return _f1score"
   ]
  },
  {
   "cell_type": "code",
   "execution_count": 24,
   "id": "46c7c759",
   "metadata": {},
   "outputs": [],
   "source": [
    "model.compile(tensorflow.keras.optimizers.Adam(learning_rate=0.001), loss='binary_crossentropy', metrics=['accuracy',f1score])"
   ]
  },
  {
   "cell_type": "code",
   "execution_count": 25,
   "id": "4d9b7a53",
   "metadata": {},
   "outputs": [],
   "source": [
    "from tensorflow.python.keras.callbacks import EarlyStopping"
   ]
  },
  {
   "cell_type": "code",
   "execution_count": 26,
   "id": "95315af6",
   "metadata": {},
   "outputs": [],
   "source": [
    "early_stopping = EarlyStopping(patience=20)"
   ]
  },
  {
   "cell_type": "code",
   "execution_count": 27,
   "id": "ac41c758",
   "metadata": {
    "scrolled": true
   },
   "outputs": [
    {
     "name": "stdout",
     "output_type": "stream",
     "text": [
      "Epoch 1/100\n",
      "246/246 [==============================] - 4s 7ms/step - loss: 0.7414 - accuracy: 0.5252 - f1score: 0.5905 - val_loss: 0.6845 - val_accuracy: 0.5676 - val_f1score: 0.7020\n",
      "Epoch 2/100\n",
      "246/246 [==============================] - 1s 5ms/step - loss: 0.7042 - accuracy: 0.5426 - f1score: 0.6535 - val_loss: 0.6831 - val_accuracy: 0.5693 - val_f1score: 0.7123\n",
      "Epoch 3/100\n",
      "246/246 [==============================] - 1s 5ms/step - loss: 0.6921 - accuracy: 0.5549 - f1score: 0.6809 - val_loss: 0.6803 - val_accuracy: 0.5756 - val_f1score: 0.7131\n",
      "Epoch 4/100\n",
      "246/246 [==============================] - 1s 6ms/step - loss: 0.6858 - accuracy: 0.5654 - f1score: 0.6955 - val_loss: 0.6791 - val_accuracy: 0.5780 - val_f1score: 0.7136\n",
      "Epoch 5/100\n",
      "246/246 [==============================] - 1s 6ms/step - loss: 0.6838 - accuracy: 0.5708 - f1score: 0.7010 - val_loss: 0.6786 - val_accuracy: 0.5782 - val_f1score: 0.7134\n",
      "Epoch 6/100\n",
      "246/246 [==============================] - 1s 6ms/step - loss: 0.6811 - accuracy: 0.5761 - f1score: 0.7070 - val_loss: 0.6782 - val_accuracy: 0.5786 - val_f1score: 0.7135\n",
      "Epoch 7/100\n",
      "246/246 [==============================] - 1s 6ms/step - loss: 0.6808 - accuracy: 0.5767 - f1score: 0.7091 - val_loss: 0.6786 - val_accuracy: 0.5785 - val_f1score: 0.7136\n",
      "Epoch 8/100\n",
      "246/246 [==============================] - 1s 6ms/step - loss: 0.6796 - accuracy: 0.5774 - f1score: 0.7106 - val_loss: 0.6778 - val_accuracy: 0.5786 - val_f1score: 0.7137\n",
      "Epoch 9/100\n",
      "246/246 [==============================] - 1s 5ms/step - loss: 0.6789 - accuracy: 0.5795 - f1score: 0.7127 - val_loss: 0.6773 - val_accuracy: 0.5784 - val_f1score: 0.7128\n",
      "Epoch 10/100\n",
      "246/246 [==============================] - 2s 8ms/step - loss: 0.6794 - accuracy: 0.5782 - f1score: 0.7117 - val_loss: 0.6773 - val_accuracy: 0.5787 - val_f1score: 0.7133\n",
      "Epoch 11/100\n",
      "246/246 [==============================] - 2s 7ms/step - loss: 0.6781 - accuracy: 0.5804 - f1score: 0.7120 - val_loss: 0.6767 - val_accuracy: 0.5798 - val_f1score: 0.7115\n",
      "Epoch 12/100\n",
      "246/246 [==============================] - 1s 6ms/step - loss: 0.6783 - accuracy: 0.5802 - f1score: 0.7119 - val_loss: 0.6768 - val_accuracy: 0.5791 - val_f1score: 0.7126\n",
      "Epoch 13/100\n",
      "246/246 [==============================] - 2s 6ms/step - loss: 0.6776 - accuracy: 0.5797 - f1score: 0.7111 - val_loss: 0.6773 - val_accuracy: 0.5787 - val_f1score: 0.7130\n",
      "Epoch 14/100\n",
      "246/246 [==============================] - 2s 7ms/step - loss: 0.6779 - accuracy: 0.5810 - f1score: 0.7128 - val_loss: 0.6769 - val_accuracy: 0.5801 - val_f1score: 0.7126\n",
      "Epoch 15/100\n",
      "246/246 [==============================] - 1s 6ms/step - loss: 0.6773 - accuracy: 0.5800 - f1score: 0.7123 - val_loss: 0.6766 - val_accuracy: 0.5789 - val_f1score: 0.7131\n",
      "Epoch 16/100\n",
      "246/246 [==============================] - 2s 7ms/step - loss: 0.6770 - accuracy: 0.5812 - f1score: 0.7123 - val_loss: 0.6769 - val_accuracy: 0.5789 - val_f1score: 0.7135\n",
      "Epoch 17/100\n",
      "246/246 [==============================] - 2s 7ms/step - loss: 0.6768 - accuracy: 0.5803 - f1score: 0.7125 - val_loss: 0.6771 - val_accuracy: 0.5791 - val_f1score: 0.7133\n",
      "Epoch 18/100\n",
      "246/246 [==============================] - 1s 6ms/step - loss: 0.6770 - accuracy: 0.5812 - f1score: 0.7128 - val_loss: 0.6765 - val_accuracy: 0.5795 - val_f1score: 0.7122\n",
      "Epoch 19/100\n",
      "246/246 [==============================] - 2s 6ms/step - loss: 0.6764 - accuracy: 0.5820 - f1score: 0.7134 - val_loss: 0.6774 - val_accuracy: 0.5782 - val_f1score: 0.7133\n",
      "Epoch 20/100\n",
      "246/246 [==============================] - 1s 6ms/step - loss: 0.6769 - accuracy: 0.5815 - f1score: 0.7123 - val_loss: 0.6764 - val_accuracy: 0.5799 - val_f1score: 0.7128\n",
      "Epoch 21/100\n",
      "246/246 [==============================] - 1s 6ms/step - loss: 0.6764 - accuracy: 0.5815 - f1score: 0.7128 - val_loss: 0.6763 - val_accuracy: 0.5817 - val_f1score: 0.7098\n",
      "Epoch 22/100\n",
      "246/246 [==============================] - 1s 6ms/step - loss: 0.6764 - accuracy: 0.5813 - f1score: 0.7098 - val_loss: 0.6765 - val_accuracy: 0.5796 - val_f1score: 0.7129\n",
      "Epoch 23/100\n",
      "246/246 [==============================] - 1s 6ms/step - loss: 0.6763 - accuracy: 0.5826 - f1score: 0.7132 - val_loss: 0.6767 - val_accuracy: 0.5795 - val_f1score: 0.7134\n",
      "Epoch 24/100\n",
      "246/246 [==============================] - 1s 6ms/step - loss: 0.6766 - accuracy: 0.5816 - f1score: 0.7132 - val_loss: 0.6773 - val_accuracy: 0.5757 - val_f1score: 0.6981\n",
      "Epoch 25/100\n",
      "246/246 [==============================] - 1s 5ms/step - loss: 0.6760 - accuracy: 0.5824 - f1score: 0.7123 - val_loss: 0.6765 - val_accuracy: 0.5803 - val_f1score: 0.7098\n",
      "Epoch 26/100\n",
      "246/246 [==============================] - 1s 5ms/step - loss: 0.6758 - accuracy: 0.5831 - f1score: 0.7132 - val_loss: 0.6770 - val_accuracy: 0.5794 - val_f1score: 0.7136\n",
      "Epoch 27/100\n",
      "246/246 [==============================] - 1s 5ms/step - loss: 0.6764 - accuracy: 0.5824 - f1score: 0.7118 - val_loss: 0.6775 - val_accuracy: 0.5787 - val_f1score: 0.7138\n",
      "Epoch 28/100\n",
      "246/246 [==============================] - 1s 5ms/step - loss: 0.6766 - accuracy: 0.5830 - f1score: 0.7140 - val_loss: 0.6765 - val_accuracy: 0.5803 - val_f1score: 0.7053\n",
      "Epoch 29/100\n",
      "246/246 [==============================] - 1s 5ms/step - loss: 0.6770 - accuracy: 0.5817 - f1score: 0.7114 - val_loss: 0.6764 - val_accuracy: 0.5796 - val_f1score: 0.7131\n",
      "Epoch 30/100\n",
      "246/246 [==============================] - 1s 5ms/step - loss: 0.6760 - accuracy: 0.5827 - f1score: 0.7126 - val_loss: 0.6760 - val_accuracy: 0.5795 - val_f1score: 0.7101\n",
      "Epoch 31/100\n",
      "246/246 [==============================] - 1s 5ms/step - loss: 0.6762 - accuracy: 0.5820 - f1score: 0.7119 - val_loss: 0.6765 - val_accuracy: 0.5796 - val_f1score: 0.7125\n",
      "Epoch 32/100\n",
      "246/246 [==============================] - 1s 5ms/step - loss: 0.6755 - accuracy: 0.5833 - f1score: 0.7119 - val_loss: 0.6759 - val_accuracy: 0.5808 - val_f1score: 0.7124\n",
      "Epoch 33/100\n",
      "246/246 [==============================] - 1s 6ms/step - loss: 0.6757 - accuracy: 0.5837 - f1score: 0.7126 - val_loss: 0.6766 - val_accuracy: 0.5789 - val_f1score: 0.7129\n",
      "Epoch 34/100\n",
      "246/246 [==============================] - 1s 5ms/step - loss: 0.6760 - accuracy: 0.5827 - f1score: 0.7140 - val_loss: 0.6770 - val_accuracy: 0.5792 - val_f1score: 0.7122\n",
      "Epoch 35/100\n",
      "246/246 [==============================] - 1s 5ms/step - loss: 0.6759 - accuracy: 0.5833 - f1score: 0.7134 - val_loss: 0.6769 - val_accuracy: 0.5803 - val_f1score: 0.7121\n",
      "Epoch 36/100\n",
      "246/246 [==============================] - 1s 5ms/step - loss: 0.6752 - accuracy: 0.5833 - f1score: 0.7122 - val_loss: 0.6765 - val_accuracy: 0.5789 - val_f1score: 0.7137\n",
      "Epoch 37/100\n",
      "246/246 [==============================] - 1s 5ms/step - loss: 0.6752 - accuracy: 0.5833 - f1score: 0.7143 - val_loss: 0.6762 - val_accuracy: 0.5805 - val_f1score: 0.7118\n",
      "Epoch 38/100\n",
      "246/246 [==============================] - 1s 5ms/step - loss: 0.6755 - accuracy: 0.5835 - f1score: 0.7129 - val_loss: 0.6762 - val_accuracy: 0.5799 - val_f1score: 0.7124\n",
      "Epoch 39/100\n",
      "246/246 [==============================] - 1s 5ms/step - loss: 0.6755 - accuracy: 0.5828 - f1score: 0.7129 - val_loss: 0.6770 - val_accuracy: 0.5791 - val_f1score: 0.7135\n",
      "Epoch 40/100\n",
      "246/246 [==============================] - 1s 6ms/step - loss: 0.6752 - accuracy: 0.5832 - f1score: 0.7139 - val_loss: 0.6767 - val_accuracy: 0.5805 - val_f1score: 0.7123\n",
      "Epoch 41/100\n",
      "246/246 [==============================] - 1s 5ms/step - loss: 0.6752 - accuracy: 0.5830 - f1score: 0.7130 - val_loss: 0.6761 - val_accuracy: 0.5798 - val_f1score: 0.7135\n",
      "Epoch 42/100\n",
      "246/246 [==============================] - 1s 6ms/step - loss: 0.6757 - accuracy: 0.5829 - f1score: 0.7130 - val_loss: 0.6781 - val_accuracy: 0.5794 - val_f1score: 0.7134\n",
      "Epoch 43/100\n",
      "246/246 [==============================] - 1s 6ms/step - loss: 0.6750 - accuracy: 0.5839 - f1score: 0.7146 - val_loss: 0.6764 - val_accuracy: 0.5817 - val_f1score: 0.7109\n",
      "Epoch 44/100\n",
      "246/246 [==============================] - 2s 7ms/step - loss: 0.6761 - accuracy: 0.5828 - f1score: 0.7124 - val_loss: 0.6769 - val_accuracy: 0.5808 - val_f1score: 0.7130\n",
      "Epoch 45/100\n",
      "246/246 [==============================] - 1s 5ms/step - loss: 0.6752 - accuracy: 0.5837 - f1score: 0.7131 - val_loss: 0.6768 - val_accuracy: 0.5804 - val_f1score: 0.7131\n",
      "Epoch 46/100\n",
      "246/246 [==============================] - 1s 5ms/step - loss: 0.6751 - accuracy: 0.5834 - f1score: 0.7126 - val_loss: 0.6761 - val_accuracy: 0.5797 - val_f1score: 0.7135\n",
      "Epoch 47/100\n",
      "246/246 [==============================] - 1s 6ms/step - loss: 0.6755 - accuracy: 0.5839 - f1score: 0.7140 - val_loss: 0.6761 - val_accuracy: 0.5801 - val_f1score: 0.7133\n",
      "Epoch 48/100\n",
      "246/246 [==============================] - 1s 5ms/step - loss: 0.6756 - accuracy: 0.5840 - f1score: 0.7125 - val_loss: 0.6764 - val_accuracy: 0.5786 - val_f1score: 0.7128\n",
      "Epoch 49/100\n",
      "246/246 [==============================] - 1s 5ms/step - loss: 0.6752 - accuracy: 0.5837 - f1score: 0.7125 - val_loss: 0.6759 - val_accuracy: 0.5809 - val_f1score: 0.7097\n",
      "Epoch 50/100\n",
      "246/246 [==============================] - 2s 7ms/step - loss: 0.6749 - accuracy: 0.5845 - f1score: 0.7128 - val_loss: 0.6770 - val_accuracy: 0.5798 - val_f1score: 0.7126\n",
      "Epoch 51/100\n",
      "246/246 [==============================] - 1s 6ms/step - loss: 0.6756 - accuracy: 0.5845 - f1score: 0.7129 - val_loss: 0.6765 - val_accuracy: 0.5803 - val_f1score: 0.7134\n",
      "Epoch 52/100\n",
      "246/246 [==============================] - 2s 6ms/step - loss: 0.6754 - accuracy: 0.5846 - f1score: 0.7136 - val_loss: 0.6758 - val_accuracy: 0.5806 - val_f1score: 0.7061\n",
      "Epoch 53/100\n",
      "246/246 [==============================] - 2s 7ms/step - loss: 0.6750 - accuracy: 0.5843 - f1score: 0.7098 - val_loss: 0.6760 - val_accuracy: 0.5812 - val_f1score: 0.7081\n",
      "Epoch 54/100\n",
      "246/246 [==============================] - 1s 6ms/step - loss: 0.6746 - accuracy: 0.5848 - f1score: 0.7116 - val_loss: 0.6763 - val_accuracy: 0.5791 - val_f1score: 0.7127\n",
      "Epoch 55/100\n",
      "246/246 [==============================] - 1s 6ms/step - loss: 0.6753 - accuracy: 0.5842 - f1score: 0.7121 - val_loss: 0.6759 - val_accuracy: 0.5809 - val_f1score: 0.7126\n",
      "Epoch 56/100\n",
      "246/246 [==============================] - 1s 6ms/step - loss: 0.6750 - accuracy: 0.5852 - f1score: 0.7115 - val_loss: 0.6978 - val_accuracy: 0.5812 - val_f1score: 0.7116\n",
      "Epoch 57/100\n",
      "246/246 [==============================] - 1s 5ms/step - loss: 0.6751 - accuracy: 0.5837 - f1score: 0.7125 - val_loss: 0.6767 - val_accuracy: 0.5804 - val_f1score: 0.7135\n",
      "Epoch 58/100\n",
      "246/246 [==============================] - 1s 5ms/step - loss: 0.6745 - accuracy: 0.5851 - f1score: 0.7121 - val_loss: 0.6774 - val_accuracy: 0.5798 - val_f1score: 0.7127\n",
      "Epoch 59/100\n",
      "246/246 [==============================] - ETA: 0s - loss: 0.6753 - accuracy: 0.5837 - f1score: 0.71 - 1s 5ms/step - loss: 0.6751 - accuracy: 0.5841 - f1score: 0.7125 - val_loss: 0.6758 - val_accuracy: 0.5810 - val_f1score: 0.7119\n",
      "Epoch 60/100\n",
      "246/246 [==============================] - 1s 5ms/step - loss: 0.6748 - accuracy: 0.5848 - f1score: 0.7127 - val_loss: 0.6762 - val_accuracy: 0.5798 - val_f1score: 0.7131\n",
      "Epoch 61/100\n",
      "246/246 [==============================] - 1s 5ms/step - loss: 0.6749 - accuracy: 0.5853 - f1score: 0.7125 - val_loss: 0.6765 - val_accuracy: 0.5807 - val_f1score: 0.7129\n",
      "Epoch 62/100\n",
      "246/246 [==============================] - 1s 5ms/step - loss: 0.6750 - accuracy: 0.5830 - f1score: 0.7122 - val_loss: 0.6763 - val_accuracy: 0.5811 - val_f1score: 0.7125\n",
      "Epoch 63/100\n",
      "246/246 [==============================] - 1s 5ms/step - loss: 0.6752 - accuracy: 0.5839 - f1score: 0.7107 - val_loss: 0.6772 - val_accuracy: 0.5794 - val_f1score: 0.7133\n",
      "Epoch 64/100\n",
      "246/246 [==============================] - 1s 5ms/step - loss: 0.6744 - accuracy: 0.5856 - f1score: 0.7118 - val_loss: 0.6764 - val_accuracy: 0.5817 - val_f1score: 0.7111\n",
      "Epoch 65/100\n",
      "246/246 [==============================] - 2s 7ms/step - loss: 0.6752 - accuracy: 0.5847 - f1score: 0.7125 - val_loss: 0.6759 - val_accuracy: 0.5813 - val_f1score: 0.7118\n",
      "Epoch 66/100\n",
      "246/246 [==============================] - 2s 7ms/step - loss: 0.6752 - accuracy: 0.5850 - f1score: 0.7116 - val_loss: 0.6759 - val_accuracy: 0.5825 - val_f1score: 0.7110\n",
      "Epoch 67/100\n",
      "246/246 [==============================] - 2s 7ms/step - loss: 0.6748 - accuracy: 0.5847 - f1score: 0.7119 - val_loss: 0.6761 - val_accuracy: 0.5823 - val_f1score: 0.7097\n",
      "Epoch 68/100\n",
      "246/246 [==============================] - 2s 7ms/step - loss: 0.6748 - accuracy: 0.5847 - f1score: 0.7118 - val_loss: 0.6763 - val_accuracy: 0.5811 - val_f1score: 0.7129\n",
      "Epoch 69/100\n",
      "246/246 [==============================] - 2s 7ms/step - loss: 0.6751 - accuracy: 0.5848 - f1score: 0.7120 - val_loss: 0.6764 - val_accuracy: 0.5809 - val_f1score: 0.7087\n",
      "Epoch 70/100\n",
      "246/246 [==============================] - 2s 7ms/step - loss: 0.6744 - accuracy: 0.5848 - f1score: 0.7115 - val_loss: 0.6762 - val_accuracy: 0.5814 - val_f1score: 0.7111\n",
      "Epoch 71/100\n",
      "246/246 [==============================] - 1s 5ms/step - loss: 0.6742 - accuracy: 0.5856 - f1score: 0.7119 - val_loss: 0.6756 - val_accuracy: 0.5819 - val_f1score: 0.7090\n",
      "Epoch 72/100\n",
      "246/246 [==============================] - 1s 6ms/step - loss: 0.6751 - accuracy: 0.5843 - f1score: 0.7121 - val_loss: 0.6755 - val_accuracy: 0.5828 - val_f1score: 0.7126\n",
      "Epoch 73/100\n",
      "246/246 [==============================] - 1s 5ms/step - loss: 0.6749 - accuracy: 0.5847 - f1score: 0.7106 - val_loss: 0.6755 - val_accuracy: 0.5823 - val_f1score: 0.7095\n",
      "Epoch 74/100\n",
      "246/246 [==============================] - 1s 5ms/step - loss: 0.6739 - accuracy: 0.5855 - f1score: 0.7118 - val_loss: 0.6755 - val_accuracy: 0.5817 - val_f1score: 0.7096\n",
      "Epoch 75/100\n",
      "246/246 [==============================] - 2s 7ms/step - loss: 0.6743 - accuracy: 0.5856 - f1score: 0.7115 - val_loss: 0.6760 - val_accuracy: 0.5819 - val_f1score: 0.7120\n",
      "Epoch 76/100\n",
      "246/246 [==============================] - 1s 6ms/step - loss: 0.6744 - accuracy: 0.5843 - f1score: 0.7103 - val_loss: 0.6757 - val_accuracy: 0.5818 - val_f1score: 0.7125\n",
      "Epoch 77/100\n",
      "246/246 [==============================] - 2s 6ms/step - loss: 0.6744 - accuracy: 0.5855 - f1score: 0.7121 - val_loss: 0.6763 - val_accuracy: 0.5803 - val_f1score: 0.7123\n",
      "Epoch 78/100\n",
      "246/246 [==============================] - 2s 6ms/step - loss: 0.6743 - accuracy: 0.5851 - f1score: 0.7125 - val_loss: 0.6763 - val_accuracy: 0.5804 - val_f1score: 0.7122\n",
      "Epoch 79/100\n",
      "246/246 [==============================] - 2s 7ms/step - loss: 0.6746 - accuracy: 0.5854 - f1score: 0.7128 - val_loss: 0.6756 - val_accuracy: 0.5816 - val_f1score: 0.7116\n",
      "Epoch 80/100\n",
      "246/246 [==============================] - 2s 6ms/step - loss: 0.6745 - accuracy: 0.5854 - f1score: 0.7117 - val_loss: 0.6757 - val_accuracy: 0.5831 - val_f1score: 0.7101\n",
      "Epoch 81/100\n",
      "246/246 [==============================] - 1s 6ms/step - loss: 0.6750 - accuracy: 0.5846 - f1score: 0.7119 - val_loss: 0.6761 - val_accuracy: 0.5807 - val_f1score: 0.7119\n",
      "Epoch 82/100\n",
      "246/246 [==============================] - 1s 5ms/step - loss: 0.6752 - accuracy: 0.5850 - f1score: 0.7102 - val_loss: 0.6767 - val_accuracy: 0.5825 - val_f1score: 0.7112\n",
      "Epoch 83/100\n",
      "246/246 [==============================] - 1s 6ms/step - loss: 0.6744 - accuracy: 0.5856 - f1score: 0.7121 - val_loss: 0.6784 - val_accuracy: 0.5817 - val_f1score: 0.7132\n",
      "Epoch 84/100\n",
      "246/246 [==============================] - 1s 5ms/step - loss: 0.6746 - accuracy: 0.5844 - f1score: 0.7101 - val_loss: 0.6758 - val_accuracy: 0.5806 - val_f1score: 0.7117\n",
      "Epoch 85/100\n",
      "246/246 [==============================] - 1s 5ms/step - loss: 0.6748 - accuracy: 0.5857 - f1score: 0.7117 - val_loss: 0.6784 - val_accuracy: 0.5802 - val_f1score: 0.7132\n",
      "Epoch 86/100\n",
      "246/246 [==============================] - 1s 5ms/step - loss: 0.6743 - accuracy: 0.5871 - f1score: 0.7125 - val_loss: 0.6750 - val_accuracy: 0.5824 - val_f1score: 0.7089\n",
      "Epoch 87/100\n",
      "246/246 [==============================] - 1s 5ms/step - loss: 0.6740 - accuracy: 0.5867 - f1score: 0.7116 - val_loss: 0.6759 - val_accuracy: 0.5828 - val_f1score: 0.7094\n",
      "Epoch 88/100\n",
      "246/246 [==============================] - 1s 5ms/step - loss: 0.6741 - accuracy: 0.5841 - f1score: 0.7117 - val_loss: 0.6783 - val_accuracy: 0.5819 - val_f1score: 0.7125\n",
      "Epoch 89/100\n"
     ]
    },
    {
     "name": "stdout",
     "output_type": "stream",
     "text": [
      "246/246 [==============================] - 1s 5ms/step - loss: 0.6739 - accuracy: 0.5862 - f1score: 0.7124 - val_loss: 0.6762 - val_accuracy: 0.5808 - val_f1score: 0.7123\n",
      "Epoch 90/100\n",
      "246/246 [==============================] - 1s 5ms/step - loss: 0.6742 - accuracy: 0.5856 - f1score: 0.7107 - val_loss: 0.6758 - val_accuracy: 0.5808 - val_f1score: 0.7123\n",
      "Epoch 91/100\n",
      "246/246 [==============================] - 1s 5ms/step - loss: 0.6747 - accuracy: 0.5856 - f1score: 0.7113 - val_loss: 0.6826 - val_accuracy: 0.5796 - val_f1score: 0.7131\n",
      "Epoch 92/100\n",
      "246/246 [==============================] - 1s 5ms/step - loss: 0.6743 - accuracy: 0.5853 - f1score: 0.7124 - val_loss: 0.6898 - val_accuracy: 0.5811 - val_f1score: 0.7137\n",
      "Epoch 93/100\n",
      "246/246 [==============================] - 1s 5ms/step - loss: 0.6748 - accuracy: 0.5844 - f1score: 0.7118 - val_loss: 0.6934 - val_accuracy: 0.5819 - val_f1score: 0.7130\n",
      "Epoch 94/100\n",
      "246/246 [==============================] - 1s 5ms/step - loss: 0.6743 - accuracy: 0.5865 - f1score: 0.7123 - val_loss: 0.6760 - val_accuracy: 0.5830 - val_f1score: 0.7121\n",
      "Epoch 95/100\n",
      "246/246 [==============================] - 1s 5ms/step - loss: 0.6739 - accuracy: 0.5854 - f1score: 0.7119 - val_loss: 0.6767 - val_accuracy: 0.5813 - val_f1score: 0.7124\n",
      "Epoch 96/100\n",
      "246/246 [==============================] - 1s 5ms/step - loss: 0.6739 - accuracy: 0.5852 - f1score: 0.7104 - val_loss: 0.6775 - val_accuracy: 0.5801 - val_f1score: 0.7139\n",
      "Epoch 97/100\n",
      "246/246 [==============================] - 1s 5ms/step - loss: 0.6740 - accuracy: 0.5857 - f1score: 0.7116 - val_loss: 0.6760 - val_accuracy: 0.5804 - val_f1score: 0.7138\n",
      "Epoch 98/100\n",
      "246/246 [==============================] - 1s 6ms/step - loss: 0.6740 - accuracy: 0.5849 - f1score: 0.7125 - val_loss: 0.6834 - val_accuracy: 0.5819 - val_f1score: 0.7109\n",
      "Epoch 99/100\n",
      "246/246 [==============================] - 1s 6ms/step - loss: 0.6747 - accuracy: 0.5847 - f1score: 0.7119 - val_loss: 0.7009 - val_accuracy: 0.5828 - val_f1score: 0.7110\n",
      "Epoch 100/100\n",
      "246/246 [==============================] - 1s 6ms/step - loss: 0.6746 - accuracy: 0.5848 - f1score: 0.7109 - val_loss: 0.6952 - val_accuracy: 0.5807 - val_f1score: 0.7098\n"
     ]
    }
   ],
   "source": [
    "history=model.fit(X_train,y_train,epochs=100,batch_size=200,validation_split=0.3,callbacks=[early_stopping])"
   ]
  },
  {
   "cell_type": "code",
   "execution_count": 28,
   "id": "ef6aa985",
   "metadata": {},
   "outputs": [
    {
     "name": "stdout",
     "output_type": "stream",
     "text": [
      "임계값 0.3\n",
      "정확도:0.564081, 정밀도:0.560683, 재현율:0.990246,F1 : 0.715976, ROC AUC : 0.575922\n",
      "\n",
      "\n",
      "임계값 0.35\n",
      "정확도:0.572780, 정밀도:0.566533, 재현율:0.979355,F1 : 0.717823, ROC AUC : 0.575922\n",
      "\n",
      "\n",
      "임계값 0.38\n",
      "정확도:0.575968, 정밀도:0.568910, 재현율:0.973251,F1 : 0.718073, ROC AUC : 0.575922\n",
      "\n",
      "\n",
      "임계값 0.4\n",
      "정확도:0.577462, 정밀도:0.570102, 재현율:0.969661,F1 : 0.718040, ROC AUC : 0.575922\n",
      "\n",
      "\n",
      "임계값 0.45\n",
      "정확도:0.579421, 정밀도:0.571921, 재현율:0.962181,F1 : 0.717412, ROC AUC : 0.575922\n",
      "\n",
      "\n",
      "임계값 0.5\n",
      "정확도:0.582210, 정밀도:0.576774, 재현율:0.927892,F1 : 0.711366, ROC AUC : 0.575922\n",
      "\n",
      "\n"
     ]
    }
   ],
   "source": [
    "pred = model.predict(X_test)\n",
    "thresholds = [0.3,0.35,0.38,0.4,0.45,0.5]\n",
    "get_eval_by_threshold(y_test,pred,thresholds)"
   ]
  },
  {
   "cell_type": "markdown",
   "id": "9e493e49",
   "metadata": {},
   "source": [
    "### 1D CNN"
   ]
  },
  {
   "cell_type": "code",
   "execution_count": 30,
   "id": "8678f55d",
   "metadata": {},
   "outputs": [],
   "source": [
    "from tensorflow.keras.models import Sequential\n",
    "from tensorflow.keras.layers import Dense,Flatten,Conv1D,MaxPooling1D,BatchNormalization,Dropout"
   ]
  },
  {
   "cell_type": "code",
   "execution_count": 31,
   "id": "0b3ec564",
   "metadata": {},
   "outputs": [],
   "source": [
    "X_train = X_train.to_numpy()\n",
    "X_test = X_test.to_numpy()"
   ]
  },
  {
   "cell_type": "code",
   "execution_count": 32,
   "id": "3a615d4d",
   "metadata": {},
   "outputs": [],
   "source": [
    "y_train = y_train.to_numpy()\n",
    "y_test = y_test.to_numpy()"
   ]
  },
  {
   "cell_type": "code",
   "execution_count": 33,
   "id": "2e1d8072",
   "metadata": {},
   "outputs": [
    {
     "data": {
      "text/plain": [
       "((70273, 52, 1), (30118, 52, 1))"
      ]
     },
     "execution_count": 33,
     "metadata": {},
     "output_type": "execute_result"
    }
   ],
   "source": [
    "X_train=X_train.reshape(X_train.shape[0],X_train.shape[1],1)\n",
    "X_test=X_test.reshape(X_test.shape[0],X_test.shape[1],1)\n",
    "X_train.shape, X_test.shape"
   ]
  },
  {
   "cell_type": "code",
   "execution_count": 34,
   "id": "70b81357",
   "metadata": {},
   "outputs": [
    {
     "data": {
      "text/plain": [
       "(52, 1)"
      ]
     },
     "execution_count": 34,
     "metadata": {},
     "output_type": "execute_result"
    }
   ],
   "source": [
    "input_shape=X_train[0].shape\n",
    "input_shape"
   ]
  },
  {
   "cell_type": "code",
   "execution_count": 35,
   "id": "f43e1d4e",
   "metadata": {
    "scrolled": true
   },
   "outputs": [
    {
     "name": "stdout",
     "output_type": "stream",
     "text": [
      "Model: \"sequential_1\"\n",
      "_________________________________________________________________\n",
      "Layer (type)                 Output Shape              Param #   \n",
      "=================================================================\n",
      "conv1d (Conv1D)              (None, 51, 128)           384       \n",
      "_________________________________________________________________\n",
      "max_pooling1d (MaxPooling1D) (None, 25, 128)           0         \n",
      "_________________________________________________________________\n",
      "dropout_5 (Dropout)          (None, 25, 128)           0         \n",
      "_________________________________________________________________\n",
      "batch_normalization_5 (Batch (None, 25, 128)           512       \n",
      "_________________________________________________________________\n",
      "conv1d_1 (Conv1D)            (None, 24, 64)            16448     \n",
      "_________________________________________________________________\n",
      "max_pooling1d_1 (MaxPooling1 (None, 12, 64)            0         \n",
      "_________________________________________________________________\n",
      "dropout_6 (Dropout)          (None, 12, 64)            0         \n",
      "_________________________________________________________________\n",
      "batch_normalization_6 (Batch (None, 12, 64)            256       \n",
      "_________________________________________________________________\n",
      "conv1d_2 (Conv1D)            (None, 11, 32)            4128      \n",
      "_________________________________________________________________\n",
      "max_pooling1d_2 (MaxPooling1 (None, 5, 32)             0         \n",
      "_________________________________________________________________\n",
      "dropout_7 (Dropout)          (None, 5, 32)             0         \n",
      "_________________________________________________________________\n",
      "batch_normalization_7 (Batch (None, 5, 32)             128       \n",
      "_________________________________________________________________\n",
      "flatten (Flatten)            (None, 160)               0         \n",
      "_________________________________________________________________\n",
      "dense_6 (Dense)              (None, 256)               41216     \n",
      "_________________________________________________________________\n",
      "dropout_8 (Dropout)          (None, 256)               0         \n",
      "_________________________________________________________________\n",
      "dense_7 (Dense)              (None, 128)               32896     \n",
      "_________________________________________________________________\n",
      "dropout_9 (Dropout)          (None, 128)               0         \n",
      "_________________________________________________________________\n",
      "dense_8 (Dense)              (None, 64)                8256      \n",
      "_________________________________________________________________\n",
      "dropout_10 (Dropout)         (None, 64)                0         \n",
      "_________________________________________________________________\n",
      "dense_9 (Dense)              (None, 1)                 65        \n",
      "=================================================================\n",
      "Total params: 104,289\n",
      "Trainable params: 103,841\n",
      "Non-trainable params: 448\n",
      "_________________________________________________________________\n"
     ]
    }
   ],
   "source": [
    "cnn=Sequential()\n",
    "# Conv + Pooling Layer1\n",
    "cnn.add(Conv1D(filters=128, kernel_size=2, activation='relu', input_shape=X_train[0].shape))\n",
    "cnn.add(MaxPooling1D(pool_size=2))\n",
    "cnn.add(BatchNormalization())\n",
    "cnn.add(Dropout(0.2))\n",
    "\n",
    "# Conv + Pooling Layer2\n",
    "cnn.add(Conv1D(filters=64, kernel_size=2, activation='relu'))\n",
    "cnn.add(MaxPooling1D(pool_size=2))\n",
    "cnn.add(BatchNormalization())\n",
    "cnn.add(Dropout(0.2))\n",
    "\n",
    "# Conv + Pooling Layer3\n",
    "cnn.add(Conv1D(filters=32, kernel_size=2, activation='relu'))\n",
    "cnn.add(MaxPooling1D(pool_size=2))\n",
    "cnn.add(BatchNormalization())\n",
    "cnn.add(Dropout(0.2))\n",
    "\n",
    "# Fully Connected Layer \n",
    "cnn.add(Flatten())\n",
    "cnn.add(Dense(256, activation='relu'))\n",
    "cnn.add(Dropout(0.2))\n",
    "cnn.add(Dense(128, activation='relu'))\n",
    "cnn.add(Dropout(0.2))\n",
    "cnn.add(Dense(64, activation='relu'))\n",
    "cnn.add(Dropout(0.2))\n",
    "cnn.add(Dense(1, activation='relu'))\n",
    "cnn.summary()"
   ]
  },
  {
   "cell_type": "code",
   "execution_count": 36,
   "id": "5cab2362",
   "metadata": {},
   "outputs": [],
   "source": [
    "cnn.compile(tensorflow.keras.optimizers.Adam(learning_rate=0.001), loss='binary_crossentropy', metrics=['accuracy',f1score])"
   ]
  },
  {
   "cell_type": "code",
   "execution_count": 37,
   "id": "dffa069f",
   "metadata": {
    "scrolled": true
   },
   "outputs": [
    {
     "name": "stdout",
     "output_type": "stream",
     "text": [
      "Epoch 1/100\n",
      "246/246 [==============================] - 13s 48ms/step - loss: 1.3846 - accuracy: 0.5044 - f1score: 0.5108 - val_loss: 0.8447 - val_accuracy: 0.4485 - val_f1score: 0.0000e+00\n",
      "Epoch 2/100\n",
      "246/246 [==============================] - 13s 52ms/step - loss: 0.8119 - accuracy: 0.4898 - f1score: 0.4529 - val_loss: 0.8090 - val_accuracy: 0.4485 - val_f1score: 0.0000e+00\n",
      "Epoch 3/100\n",
      "246/246 [==============================] - 13s 52ms/step - loss: 0.7566 - accuracy: 0.5033 - f1score: 0.5141 - val_loss: 0.7372 - val_accuracy: 0.4501 - val_f1score: 0.0111\n",
      "Epoch 4/100\n",
      "246/246 [==============================] - 13s 53ms/step - loss: 0.7326 - accuracy: 0.5085 - f1score: 0.5396 - val_loss: 0.7183 - val_accuracy: 0.5221 - val_f1score: 0.5166\n",
      "Epoch 5/100\n",
      "246/246 [==============================] - 13s 52ms/step - loss: 0.7289 - accuracy: 0.5098 - f1score: 0.5417 - val_loss: 0.7483 - val_accuracy: 0.4485 - val_f1score: 0.0000e+00\n",
      "Epoch 6/100\n",
      "246/246 [==============================] - 12s 51ms/step - loss: 0.7299 - accuracy: 0.5056 - f1score: 0.5266 - val_loss: 0.7102 - val_accuracy: 0.5208 - val_f1score: 0.5299\n",
      "Epoch 7/100\n",
      "246/246 [==============================] - 12s 50ms/step - loss: 0.7182 - accuracy: 0.5139 - f1score: 0.5547 - val_loss: 0.7053 - val_accuracy: 0.5300 - val_f1score: 0.5758\n",
      "Epoch 8/100\n",
      "246/246 [==============================] - 13s 51ms/step - loss: 0.7154 - accuracy: 0.5166 - f1score: 0.5687 - val_loss: 0.7083 - val_accuracy: 0.5304 - val_f1score: 0.5587\n",
      "Epoch 9/100\n",
      "246/246 [==============================] - 12s 50ms/step - loss: 0.7137 - accuracy: 0.5167 - f1score: 0.5702 - val_loss: 0.7003 - val_accuracy: 0.5345 - val_f1score: 0.5839\n",
      "Epoch 10/100\n",
      "246/246 [==============================] - 13s 52ms/step - loss: 0.7112 - accuracy: 0.5209 - f1score: 0.5772 - val_loss: 0.7020 - val_accuracy: 0.5339 - val_f1score: 0.5713\n",
      "Epoch 11/100\n",
      "246/246 [==============================] - 13s 54ms/step - loss: 0.7120 - accuracy: 0.5205 - f1score: 0.5745 - val_loss: 0.7037 - val_accuracy: 0.5316 - val_f1score: 0.5613\n",
      "Epoch 12/100\n",
      "246/246 [==============================] - 13s 53ms/step - loss: 0.7083 - accuracy: 0.5257 - f1score: 0.5867 - val_loss: 0.6971 - val_accuracy: 0.5580 - val_f1score: 0.6358\n",
      "Epoch 13/100\n",
      "246/246 [==============================] - 13s 51ms/step - loss: 0.7104 - accuracy: 0.5226 - f1score: 0.5841 - val_loss: 0.6986 - val_accuracy: 0.5529 - val_f1score: 0.6134\n",
      "Epoch 14/100\n",
      "246/246 [==============================] - 13s 52ms/step - loss: 0.7066 - accuracy: 0.5282 - f1score: 0.5935 - val_loss: 0.6960 - val_accuracy: 0.5445 - val_f1score: 0.6053\n",
      "Epoch 15/100\n",
      "246/246 [==============================] - 13s 52ms/step - loss: 0.7069 - accuracy: 0.5274 - f1score: 0.5920 - val_loss: 0.6948 - val_accuracy: 0.5422 - val_f1score: 0.5979\n",
      "Epoch 16/100\n",
      "246/246 [==============================] - 13s 52ms/step - loss: 0.7045 - accuracy: 0.5280 - f1score: 0.5966 - val_loss: 0.7069 - val_accuracy: 0.4574 - val_f1score: 0.0866\n",
      "Epoch 17/100\n",
      "246/246 [==============================] - 13s 52ms/step - loss: 0.7029 - accuracy: 0.5289 - f1score: 0.5990 - val_loss: 0.6953 - val_accuracy: 0.5355 - val_f1score: 0.5771\n",
      "Epoch 18/100\n",
      "246/246 [==============================] - 14s 58ms/step - loss: 0.7007 - accuracy: 0.5369 - f1score: 0.6085 - val_loss: 0.6872 - val_accuracy: 0.5647 - val_f1score: 0.6684\n",
      "Epoch 19/100\n",
      "246/246 [==============================] - 13s 53ms/step - loss: 0.7021 - accuracy: 0.5300 - f1score: 0.6052 - val_loss: 0.6986 - val_accuracy: 0.5221 - val_f1score: 0.5085\n",
      "Epoch 20/100\n",
      "246/246 [==============================] - 14s 56ms/step - loss: 0.7020 - accuracy: 0.5312 - f1score: 0.6051 - val_loss: 0.6966 - val_accuracy: 0.5331 - val_f1score: 0.5493\n",
      "Epoch 21/100\n",
      "246/246 [==============================] - 13s 54ms/step - loss: 0.6987 - accuracy: 0.5349 - f1score: 0.6131 - val_loss: 0.6862 - val_accuracy: 0.5631 - val_f1score: 0.6654\n",
      "Epoch 22/100\n",
      "246/246 [==============================] - 14s 57ms/step - loss: 0.6979 - accuracy: 0.5360 - f1score: 0.6150 - val_loss: 0.6841 - val_accuracy: 0.5665 - val_f1score: 0.6654\n",
      "Epoch 23/100\n",
      "246/246 [==============================] - 13s 54ms/step - loss: 0.6958 - accuracy: 0.5391 - f1score: 0.6235 - val_loss: 0.6965 - val_accuracy: 0.4501 - val_f1score: 0.0158\n",
      "Epoch 24/100\n",
      "246/246 [==============================] - 14s 59ms/step - loss: 0.6970 - accuracy: 0.5371 - f1score: 0.6192 - val_loss: 0.6844 - val_accuracy: 0.5663 - val_f1score: 0.6682\n",
      "Epoch 25/100\n",
      "246/246 [==============================] - 14s 59ms/step - loss: 0.6936 - accuracy: 0.5441 - f1score: 0.6315 - val_loss: 0.6806 - val_accuracy: 0.5657 - val_f1score: 0.6757\n",
      "Epoch 26/100\n",
      "246/246 [==============================] - 15s 61ms/step - loss: 0.6934 - accuracy: 0.5445 - f1score: 0.6350 - val_loss: 0.6928 - val_accuracy: 0.4840 - val_f1score: 0.2618\n",
      "Epoch 27/100\n",
      "246/246 [==============================] - 14s 56ms/step - loss: 0.6917 - accuracy: 0.5462 - f1score: 0.6379 - val_loss: 0.6862 - val_accuracy: 0.5690 - val_f1score: 0.6627\n",
      "Epoch 28/100\n",
      "246/246 [==============================] - 14s 56ms/step - loss: 0.6930 - accuracy: 0.5437 - f1score: 0.6385 - val_loss: 0.6801 - val_accuracy: 0.5666 - val_f1score: 0.6735\n",
      "Epoch 29/100\n",
      "246/246 [==============================] - 13s 54ms/step - loss: 0.6902 - accuracy: 0.5517 - f1score: 0.6482 - val_loss: 0.6800 - val_accuracy: 0.5680 - val_f1score: 0.6751\n",
      "Epoch 30/100\n",
      "246/246 [==============================] - 13s 54ms/step - loss: 0.6898 - accuracy: 0.5526 - f1score: 0.6496 - val_loss: 0.6802 - val_accuracy: 0.5682 - val_f1score: 0.6731\n",
      "Epoch 31/100\n",
      "246/246 [==============================] - 15s 60ms/step - loss: 0.6907 - accuracy: 0.5498 - f1score: 0.6490 - val_loss: 0.6817 - val_accuracy: 0.5748 - val_f1score: 0.7042\n",
      "Epoch 32/100\n",
      "246/246 [==============================] - 16s 63ms/step - loss: 0.6873 - accuracy: 0.5558 - f1score: 0.6578 - val_loss: 0.6799 - val_accuracy: 0.5687 - val_f1score: 0.6736\n",
      "Epoch 33/100\n",
      "246/246 [==============================] - 15s 60ms/step - loss: 0.6900 - accuracy: 0.5541 - f1score: 0.6578 - val_loss: 0.6807 - val_accuracy: 0.5748 - val_f1score: 0.6961\n",
      "Epoch 34/100\n",
      "246/246 [==============================] - 14s 58ms/step - loss: 0.6887 - accuracy: 0.5519 - f1score: 0.6530 - val_loss: 0.6797 - val_accuracy: 0.5756 - val_f1score: 0.7117\n",
      "Epoch 35/100\n",
      "246/246 [==============================] - 15s 60ms/step - loss: 0.6871 - accuracy: 0.5586 - f1score: 0.6647 - val_loss: 0.6793 - val_accuracy: 0.5757 - val_f1score: 0.7123\n",
      "Epoch 36/100\n",
      "246/246 [==============================] - 13s 54ms/step - loss: 0.6879 - accuracy: 0.5567 - f1score: 0.6628 - val_loss: 0.6789 - val_accuracy: 0.5748 - val_f1score: 0.7128\n",
      "Epoch 37/100\n",
      "246/246 [==============================] - 14s 55ms/step - loss: 0.6868 - accuracy: 0.5588 - f1score: 0.6660 - val_loss: 0.6791 - val_accuracy: 0.5744 - val_f1score: 0.7122\n",
      "Epoch 38/100\n",
      "246/246 [==============================] - 13s 54ms/step - loss: 0.6862 - accuracy: 0.5618 - f1score: 0.6698 - val_loss: 0.6826 - val_accuracy: 0.5766 - val_f1score: 0.6949\n",
      "Epoch 39/100\n",
      "246/246 [==============================] - 14s 56ms/step - loss: 0.6858 - accuracy: 0.5606 - f1score: 0.6699 - val_loss: 0.6779 - val_accuracy: 0.5767 - val_f1score: 0.7124\n",
      "Epoch 40/100\n",
      "246/246 [==============================] - 13s 54ms/step - loss: 0.6849 - accuracy: 0.5623 - f1score: 0.6711 - val_loss: 0.6793 - val_accuracy: 0.5767 - val_f1score: 0.7112\n",
      "Epoch 41/100\n",
      "246/246 [==============================] - 13s 52ms/step - loss: 0.6850 - accuracy: 0.5640 - f1score: 0.6742 - val_loss: 0.6799 - val_accuracy: 0.5717 - val_f1score: 0.6884\n",
      "Epoch 42/100\n",
      "246/246 [==============================] - 13s 54ms/step - loss: 0.6844 - accuracy: 0.5637 - f1score: 0.6747 - val_loss: 0.6782 - val_accuracy: 0.5756 - val_f1score: 0.7122\n",
      "Epoch 43/100\n",
      "246/246 [==============================] - 13s 54ms/step - loss: 0.6843 - accuracy: 0.5647 - f1score: 0.6771 - val_loss: 0.6779 - val_accuracy: 0.5765 - val_f1score: 0.7124\n",
      "Epoch 44/100\n",
      "246/246 [==============================] - 14s 57ms/step - loss: 0.6832 - accuracy: 0.5682 - f1score: 0.6809 - val_loss: 0.6793 - val_accuracy: 0.5741 - val_f1score: 0.7129\n",
      "Epoch 45/100\n"
     ]
    },
    {
     "name": "stdout",
     "output_type": "stream",
     "text": [
      "246/246 [==============================] - 13s 54ms/step - loss: 0.6822 - accuracy: 0.5688 - f1score: 0.6849 - val_loss: 0.6774 - val_accuracy: 0.5777 - val_f1score: 0.7126\n",
      "Epoch 46/100\n",
      "246/246 [==============================] - 13s 53ms/step - loss: 0.6821 - accuracy: 0.5696 - f1score: 0.6848 - val_loss: 0.6772 - val_accuracy: 0.5774 - val_f1score: 0.7121\n",
      "Epoch 47/100\n",
      "246/246 [==============================] - 13s 52ms/step - loss: 0.6819 - accuracy: 0.5703 - f1score: 0.6887 - val_loss: 0.6789 - val_accuracy: 0.5735 - val_f1score: 0.6951\n",
      "Epoch 48/100\n",
      "246/246 [==============================] - 13s 55ms/step - loss: 0.6812 - accuracy: 0.5711 - f1score: 0.6896 - val_loss: 0.6769 - val_accuracy: 0.5773 - val_f1score: 0.7115\n",
      "Epoch 49/100\n",
      "246/246 [==============================] - 13s 54ms/step - loss: 0.6818 - accuracy: 0.5700 - f1score: 0.6900 - val_loss: 0.6778 - val_accuracy: 0.5761 - val_f1score: 0.7117\n",
      "Epoch 50/100\n",
      "246/246 [==============================] - 13s 53ms/step - loss: 0.6799 - accuracy: 0.5749 - f1score: 0.6956 - val_loss: 0.6794 - val_accuracy: 0.5745 - val_f1score: 0.7129\n",
      "Epoch 51/100\n",
      "246/246 [==============================] - 13s 52ms/step - loss: 0.6800 - accuracy: 0.5762 - f1score: 0.6996 - val_loss: 0.6781 - val_accuracy: 0.5750 - val_f1score: 0.7131\n",
      "Epoch 52/100\n",
      "246/246 [==============================] - 13s 52ms/step - loss: 0.6803 - accuracy: 0.5725 - f1score: 0.6965 - val_loss: 0.6788 - val_accuracy: 0.5756 - val_f1score: 0.7134\n",
      "Epoch 53/100\n",
      "246/246 [==============================] - 13s 53ms/step - loss: 0.6801 - accuracy: 0.5747 - f1score: 0.7000 - val_loss: 0.6778 - val_accuracy: 0.5769 - val_f1score: 0.7126\n",
      "Epoch 54/100\n",
      "246/246 [==============================] - 13s 51ms/step - loss: 0.6797 - accuracy: 0.5765 - f1score: 0.7009 - val_loss: 0.6777 - val_accuracy: 0.5774 - val_f1score: 0.7128\n",
      "Epoch 55/100\n",
      "246/246 [==============================] - 13s 52ms/step - loss: 0.6791 - accuracy: 0.5773 - f1score: 0.7040 - val_loss: 0.6782 - val_accuracy: 0.5759 - val_f1score: 0.7132\n",
      "Epoch 56/100\n",
      "246/246 [==============================] - 13s 52ms/step - loss: 0.6791 - accuracy: 0.5772 - f1score: 0.7062 - val_loss: 0.6773 - val_accuracy: 0.5777 - val_f1score: 0.7130\n",
      "Epoch 57/100\n",
      "246/246 [==============================] - 13s 52ms/step - loss: 0.6780 - accuracy: 0.5789 - f1score: 0.7043 - val_loss: 0.6785 - val_accuracy: 0.5786 - val_f1score: 0.7122\n",
      "Epoch 58/100\n",
      "246/246 [==============================] - 13s 52ms/step - loss: 0.6784 - accuracy: 0.5794 - f1score: 0.7066 - val_loss: 0.6773 - val_accuracy: 0.5774 - val_f1score: 0.7126\n",
      "Epoch 59/100\n",
      "246/246 [==============================] - 13s 51ms/step - loss: 0.6782 - accuracy: 0.5786 - f1score: 0.7066 - val_loss: 0.6770 - val_accuracy: 0.5768 - val_f1score: 0.7135\n",
      "Epoch 60/100\n",
      "246/246 [==============================] - 14s 58ms/step - loss: 0.6783 - accuracy: 0.5786 - f1score: 0.7073 - val_loss: 0.6776 - val_accuracy: 0.5770 - val_f1score: 0.7076\n",
      "Epoch 61/100\n",
      "246/246 [==============================] - 13s 52ms/step - loss: 0.6773 - accuracy: 0.5773 - f1score: 0.7038 - val_loss: 0.6779 - val_accuracy: 0.5778 - val_f1score: 0.7115\n",
      "Epoch 62/100\n",
      "246/246 [==============================] - 13s 53ms/step - loss: 0.6776 - accuracy: 0.5789 - f1score: 0.7077 - val_loss: 0.6765 - val_accuracy: 0.5768 - val_f1score: 0.7130\n",
      "Epoch 63/100\n",
      "246/246 [==============================] - 13s 53ms/step - loss: 0.6776 - accuracy: 0.5802 - f1score: 0.7063 - val_loss: 0.6754 - val_accuracy: 0.5781 - val_f1score: 0.7133\n",
      "Epoch 64/100\n",
      "246/246 [==============================] - 13s 54ms/step - loss: 0.6773 - accuracy: 0.5782 - f1score: 0.7070 - val_loss: 0.6766 - val_accuracy: 0.5762 - val_f1score: 0.7136\n",
      "Epoch 65/100\n",
      "246/246 [==============================] - 13s 53ms/step - loss: 0.6774 - accuracy: 0.5796 - f1score: 0.7087 - val_loss: 0.6770 - val_accuracy: 0.5787 - val_f1score: 0.7128\n",
      "Epoch 66/100\n",
      "246/246 [==============================] - 13s 52ms/step - loss: 0.6765 - accuracy: 0.5786 - f1score: 0.7077 - val_loss: 0.6766 - val_accuracy: 0.5765 - val_f1score: 0.7132\n",
      "Epoch 67/100\n",
      "246/246 [==============================] - 13s 52ms/step - loss: 0.6768 - accuracy: 0.5790 - f1score: 0.7090 - val_loss: 0.6772 - val_accuracy: 0.5765 - val_f1score: 0.7132\n",
      "Epoch 68/100\n",
      "246/246 [==============================] - 14s 58ms/step - loss: 0.6771 - accuracy: 0.5809 - f1score: 0.7116 - val_loss: 0.6754 - val_accuracy: 0.5776 - val_f1score: 0.7132\n",
      "Epoch 69/100\n",
      "246/246 [==============================] - 14s 56ms/step - loss: 0.6765 - accuracy: 0.5795 - f1score: 0.7109 - val_loss: 0.6753 - val_accuracy: 0.5780 - val_f1score: 0.7136\n",
      "Epoch 70/100\n",
      "246/246 [==============================] - 15s 60ms/step - loss: 0.6776 - accuracy: 0.5801 - f1score: 0.7122 - val_loss: 0.6776 - val_accuracy: 0.5775 - val_f1score: 0.7128\n",
      "Epoch 71/100\n",
      "246/246 [==============================] - 14s 58ms/step - loss: 0.6775 - accuracy: 0.5807 - f1score: 0.7108 - val_loss: 0.6757 - val_accuracy: 0.5785 - val_f1score: 0.7137\n",
      "Epoch 72/100\n",
      "246/246 [==============================] - 18s 75ms/step - loss: 0.6756 - accuracy: 0.5807 - f1score: 0.7115 - val_loss: 0.6794 - val_accuracy: 0.5720 - val_f1score: 0.6482\n",
      "Epoch 73/100\n",
      "246/246 [==============================] - 16s 67ms/step - loss: 0.6765 - accuracy: 0.5784 - f1score: 0.7066 - val_loss: 0.6758 - val_accuracy: 0.5767 - val_f1score: 0.7133\n",
      "Epoch 74/100\n",
      "246/246 [==============================] - 14s 58ms/step - loss: 0.6755 - accuracy: 0.5799 - f1score: 0.7098 - val_loss: 0.6803 - val_accuracy: 0.5798 - val_f1score: 0.7109\n",
      "Epoch 75/100\n",
      "246/246 [==============================] - 13s 54ms/step - loss: 0.6756 - accuracy: 0.5800 - f1score: 0.7106 - val_loss: 0.6758 - val_accuracy: 0.5781 - val_f1score: 0.7137\n",
      "Epoch 76/100\n",
      "246/246 [==============================] - 13s 54ms/step - loss: 0.6769 - accuracy: 0.5789 - f1score: 0.7118 - val_loss: 0.6822 - val_accuracy: 0.5684 - val_f1score: 0.7129\n",
      "Epoch 77/100\n",
      "246/246 [==============================] - 13s 52ms/step - loss: 0.6788 - accuracy: 0.5762 - f1score: 0.7092 - val_loss: 0.6782 - val_accuracy: 0.5738 - val_f1score: 0.7129\n",
      "Epoch 78/100\n",
      "246/246 [==============================] - 13s 53ms/step - loss: 0.6774 - accuracy: 0.5787 - f1score: 0.7122 - val_loss: 0.6784 - val_accuracy: 0.5756 - val_f1score: 0.7136\n",
      "Epoch 79/100\n",
      "246/246 [==============================] - 13s 53ms/step - loss: 0.6766 - accuracy: 0.5807 - f1score: 0.7137 - val_loss: 0.6760 - val_accuracy: 0.5768 - val_f1score: 0.7132\n",
      "Epoch 80/100\n",
      "246/246 [==============================] - 13s 53ms/step - loss: 0.6758 - accuracy: 0.5803 - f1score: 0.7115 - val_loss: 0.6779 - val_accuracy: 0.5746 - val_f1score: 0.7132\n",
      "Epoch 81/100\n",
      "246/246 [==============================] - 13s 52ms/step - loss: 0.6764 - accuracy: 0.5797 - f1score: 0.7100 - val_loss: 0.6768 - val_accuracy: 0.5774 - val_f1score: 0.7132\n",
      "Epoch 82/100\n",
      "246/246 [==============================] - 14s 56ms/step - loss: 0.6758 - accuracy: 0.5794 - f1score: 0.7128 - val_loss: 0.6755 - val_accuracy: 0.5786 - val_f1score: 0.7134\n",
      "Epoch 83/100\n",
      "246/246 [==============================] - 14s 55ms/step - loss: 0.6750 - accuracy: 0.5818 - f1score: 0.7132 - val_loss: 0.6740 - val_accuracy: 0.5774 - val_f1score: 0.7133\n",
      "Epoch 84/100\n",
      "246/246 [==============================] - 13s 55ms/step - loss: 0.6754 - accuracy: 0.5810 - f1score: 0.7114 - val_loss: 0.6774 - val_accuracy: 0.5754 - val_f1score: 0.7133\n",
      "Epoch 85/100\n",
      "246/246 [==============================] - 13s 52ms/step - loss: 0.6776 - accuracy: 0.5810 - f1score: 0.7127 - val_loss: 0.6765 - val_accuracy: 0.5758 - val_f1score: 0.7132\n",
      "Epoch 86/100\n",
      "246/246 [==============================] - 13s 54ms/step - loss: 0.6761 - accuracy: 0.5799 - f1score: 0.7090 - val_loss: 0.6751 - val_accuracy: 0.5782 - val_f1score: 0.7133\n",
      "Epoch 87/100\n",
      "246/246 [==============================] - 13s 53ms/step - loss: 0.6762 - accuracy: 0.5808 - f1score: 0.7091 - val_loss: 0.6775 - val_accuracy: 0.5746 - val_f1score: 0.7133\n",
      "Epoch 88/100\n",
      "246/246 [==============================] - 13s 53ms/step - loss: 0.6768 - accuracy: 0.5806 - f1score: 0.7129 - val_loss: 0.6759 - val_accuracy: 0.5770 - val_f1score: 0.7130\n",
      "Epoch 89/100\n",
      "246/246 [==============================] - 13s 52ms/step - loss: 0.6761 - accuracy: 0.5814 - f1score: 0.7129 - val_loss: 0.6756 - val_accuracy: 0.5786 - val_f1score: 0.7134\n",
      "Epoch 90/100\n",
      "246/246 [==============================] - 13s 53ms/step - loss: 0.6769 - accuracy: 0.5808 - f1score: 0.7116 - val_loss: 0.6765 - val_accuracy: 0.5757 - val_f1score: 0.7131\n",
      "Epoch 91/100\n",
      "246/246 [==============================] - 14s 56ms/step - loss: 0.6754 - accuracy: 0.5809 - f1score: 0.7118 - val_loss: 0.6746 - val_accuracy: 0.5764 - val_f1score: 0.7133\n",
      "Epoch 92/100\n",
      "246/246 [==============================] - 13s 53ms/step - loss: 0.6753 - accuracy: 0.5829 - f1score: 0.7135 - val_loss: 0.6753 - val_accuracy: 0.5753 - val_f1score: 0.7129\n",
      "Epoch 93/100\n",
      "246/246 [==============================] - 13s 52ms/step - loss: 0.6744 - accuracy: 0.5837 - f1score: 0.7124 - val_loss: 0.6739 - val_accuracy: 0.5791 - val_f1score: 0.7127\n",
      "Epoch 94/100\n",
      "246/246 [==============================] - 14s 55ms/step - loss: 0.6773 - accuracy: 0.5797 - f1score: 0.7100 - val_loss: 0.6820 - val_accuracy: 0.5733 - val_f1score: 0.7131\n",
      "Epoch 95/100\n",
      "246/246 [==============================] - 13s 53ms/step - loss: 0.6806 - accuracy: 0.5782 - f1score: 0.7132 - val_loss: 0.6797 - val_accuracy: 0.5749 - val_f1score: 0.7127\n",
      "Epoch 96/100\n",
      "246/246 [==============================] - 13s 52ms/step - loss: 0.6776 - accuracy: 0.5803 - f1score: 0.7093 - val_loss: 0.6767 - val_accuracy: 0.5758 - val_f1score: 0.7126\n",
      "Epoch 97/100\n",
      "246/246 [==============================] - 13s 51ms/step - loss: 0.6767 - accuracy: 0.5807 - f1score: 0.7064 - val_loss: 0.6762 - val_accuracy: 0.5784 - val_f1score: 0.7047\n",
      "Epoch 98/100\n",
      "246/246 [==============================] - 13s 55ms/step - loss: 0.6763 - accuracy: 0.5808 - f1score: 0.7072 - val_loss: 0.6752 - val_accuracy: 0.5793 - val_f1score: 0.7128\n",
      "Epoch 99/100\n",
      "246/246 [==============================] - 14s 56ms/step - loss: 0.6763 - accuracy: 0.5817 - f1score: 0.7129 - val_loss: 0.6750 - val_accuracy: 0.5784 - val_f1score: 0.7126\n",
      "Epoch 100/100\n",
      "246/246 [==============================] - 13s 54ms/step - loss: 0.6758 - accuracy: 0.5838 - f1score: 0.7131 - val_loss: 0.6769 - val_accuracy: 0.5782 - val_f1score: 0.7131\n"
     ]
    }
   ],
   "source": [
    "history=cnn.fit(X_train,y_train,epochs=100,batch_size=200,validation_split=0.3,callbacks=[early_stopping])"
   ]
  },
  {
   "cell_type": "code",
   "execution_count": 38,
   "id": "c1d85c3f",
   "metadata": {},
   "outputs": [
    {
     "name": "stdout",
     "output_type": "stream",
     "text": [
      "임계값 0.3\n",
      "정확도:0.554851, 정밀도:0.554851, 재현율:1.000000,F1 : 0.713703, ROC AUC : 0.585114\n",
      "\n",
      "\n",
      "임계값 0.35\n",
      "정확도:0.554851, 정밀도:0.554851, 재현율:1.000000,F1 : 0.713703, ROC AUC : 0.585114\n",
      "\n",
      "\n",
      "임계값 0.38\n",
      "정확도:0.557507, 정밀도:0.556408, 재현율:0.998743,F1 : 0.714668, ROC AUC : 0.585114\n",
      "\n",
      "\n",
      "임계값 0.4\n",
      "정확도:0.562222, 정밀도:0.559420, 재현율:0.993238,F1 : 0.715724, ROC AUC : 0.585114\n",
      "\n",
      "\n",
      "임계값 0.45\n",
      "정확도:0.579421, 정밀도:0.571819, 재현율:0.963377,F1 : 0.717664, ROC AUC : 0.585114\n",
      "\n",
      "\n",
      "임계값 0.5\n",
      "정확도:0.580019, 정밀도:0.573268, 재현율:0.950931,F1 : 0.715311, ROC AUC : 0.585114\n",
      "\n",
      "\n"
     ]
    }
   ],
   "source": [
    "pred = cnn.predict(X_test)\n",
    "thresholds = [0.3,0.35,0.38,0.4,0.45,0.5]\n",
    "get_eval_by_threshold(y_test,pred,thresholds)"
   ]
  },
  {
   "cell_type": "markdown",
   "id": "d11c829c",
   "metadata": {},
   "source": [
    "### Test 데이터 불러오기 "
   ]
  },
  {
   "cell_type": "code",
   "execution_count": 39,
   "id": "0ce9f962",
   "metadata": {},
   "outputs": [],
   "source": [
    "for i in list1:\n",
    "    test[i] = encoder.fit_transform(test[i])"
   ]
  },
  {
   "cell_type": "markdown",
   "id": "caa6e203",
   "metadata": {},
   "source": [
    "### 최종 예측값 출력 "
   ]
  },
  {
   "cell_type": "code",
   "execution_count": 40,
   "id": "fb83a49f",
   "metadata": {},
   "outputs": [],
   "source": [
    "test = test.to_numpy()"
   ]
  },
  {
   "cell_type": "code",
   "execution_count": 41,
   "id": "70bd0fe0",
   "metadata": {},
   "outputs": [
    {
     "data": {
      "text/plain": [
       "(46404, 52, 1)"
      ]
     },
     "execution_count": 41,
     "metadata": {},
     "output_type": "execute_result"
    }
   ],
   "source": [
    "test =test.reshape(test.shape[0],test.shape[1],1)\n",
    "test.shape"
   ]
  },
  {
   "cell_type": "code",
   "execution_count": 51,
   "id": "cb3c7ddb",
   "metadata": {},
   "outputs": [],
   "source": [
    "final_pred = cnn.predict(test)"
   ]
  },
  {
   "cell_type": "code",
   "execution_count": 52,
   "id": "9769ef2e",
   "metadata": {},
   "outputs": [],
   "source": [
    "threshold=0.4\n",
    "final_pred = np.where(final_pred >= threshold , 1, 0)"
   ]
  },
  {
   "cell_type": "code",
   "execution_count": 53,
   "id": "314ed340",
   "metadata": {
    "scrolled": true
   },
   "outputs": [],
   "source": [
    "sample_submission = pd.read_csv(\"데이콘/sample_submission.csv\")\n",
    "sample_submission['target'] = final_pred"
   ]
  },
  {
   "cell_type": "code",
   "execution_count": 54,
   "id": "23734f19",
   "metadata": {
    "scrolled": true
   },
   "outputs": [
    {
     "data": {
      "text/plain": [
       "1    44415\n",
       "0     1989\n",
       "Name: target, dtype: int64"
      ]
     },
     "execution_count": 54,
     "metadata": {},
     "output_type": "execute_result"
    }
   ],
   "source": [
    "sample_submission['target'].value_counts()"
   ]
  },
  {
   "cell_type": "code",
   "execution_count": 46,
   "id": "f12f4b41",
   "metadata": {},
   "outputs": [],
   "source": [
    "sample_submission.to_csv('cnn_submission.csv', index=False, encoding='utf-8-sig')"
   ]
  }
 ],
 "metadata": {
  "kernelspec": {
   "display_name": "Python 3",
   "language": "python",
   "name": "python3"
  },
  "language_info": {
   "codemirror_mode": {
    "name": "ipython",
    "version": 3
   },
   "file_extension": ".py",
   "mimetype": "text/x-python",
   "name": "python",
   "nbconvert_exporter": "python",
   "pygments_lexer": "ipython3",
   "version": "3.8.8"
  }
 },
 "nbformat": 4,
 "nbformat_minor": 5
}
